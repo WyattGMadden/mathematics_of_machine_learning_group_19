{
 "cells": [
  {
   "cell_type": "markdown",
   "metadata": {},
   "source": [
    "# Lab 7 - Wyatt Madden & Dan Crowley"
   ]
  },
  {
   "cell_type": "code",
   "execution_count": 3,
   "metadata": {},
   "outputs": [],
   "source": [
    "import scipy.io as scipy_io\n",
    "from scipy import sparse \n",
    "import numpy as np\n",
    "import quadprog\n",
    "import cvxopt\n",
    "from cvxopt import matrix, solvers "
   ]
  },
  {
   "cell_type": "code",
   "execution_count": 4,
   "metadata": {},
   "outputs": [],
   "source": [
    "mat = scipy_io.loadmat('cbcl1.mat')"
   ]
  },
  {
   "cell_type": "code",
   "execution_count": 9,
   "metadata": {},
   "outputs": [],
   "source": [
    "#sol=solvers.lp(c,A,b)\n",
    "\n",
    "X = mat[\"X\"]\n",
    "l = mat[\"L\"]\n",
    "    \n",
    "def softsvm(X, l, gamma):\n",
    "    D,N = X.shape\n",
    "\n",
    "    x = np.repeat(1, N + D + 1) #should it be 1? i honestly dont know\n",
    "    #G = np.identity(n=N+D+1) * np.concatenate((np.repeat(0.00001, N), np.repeat(1, D), np.repeat(0.00001,1)), axis = 0)\n",
    "    P = np.identity(n=N+D+1) * np.concatenate((np.repeat(0, N), np.repeat(1, D), np.repeat(0,1)), axis = 0)\n",
    "    q = np.concatenate((np.repeat(1, N), np.repeat(0, D + 1)))\n",
    "    G =np.concatenate((-1*np.identity(N), np.transpose(np.dot(np.identity(N) * l, np.transpose(X))), np.transpose(-1*l)))\n",
    "    G= np.transpose(G)\n",
    "    h = np.repeat(-1, G.shape[1]) \n",
    "    A = np.identity(n = N + D + 1)\n",
    "    b= np.repeat(1, N + D + 1)\n",
    "    \n",
    "    P = matrix(P.astype('float'))\n",
    "    q = matrix(q.astype('float'))\n",
    "    G = matrix(G.astype('float'))\n",
    "    h = matrix(h.astype('float'))\n",
    "    A = matrix(A.astype('float'))\n",
    "    b = matrix(b.astype('float'))\n",
    "\n",
    "    sol = cvxopt.solvers.qp(P,q,G, h, A, b)\n",
    "    #http://cvxopt.org/userguide/coneprog.html#quadratic-programming\n",
    "    \n",
    "  \n",
    "    #construct H, f, A, b, and lb\n",
    "    #quadprog.solve_qp()\n",
    "        #min 1/2 (x.T G X + ax)\n",
    "        #st c x <= b\n",
    "    sol=solvers.qp(Q, p, h)\n",
    "    \n",
    "    #sol = quadprog.solve_qp(G, a, c, b, meq)\n",
    "\n",
    "# distribute components of x into w, b, and xi:\n",
    "\n",
    "    return(w, b, xi)\n"
   ]
  },
  {
   "cell_type": "markdown",
   "metadata": {},
   "source": [
    "# 2"
   ]
  },
  {
   "cell_type": "code",
   "execution_count": 10,
   "metadata": {},
   "outputs": [
    {
     "ename": "TypeError",
     "evalue": "'G' must be a 'd' matrix of size (7339, 7339)",
     "output_type": "error",
     "traceback": [
      "\u001b[0;31m---------------------------------------------------------------------------\u001b[0m",
      "\u001b[0;31mTypeError\u001b[0m                                 Traceback (most recent call last)",
      "\u001b[0;32m<ipython-input-10-8f7bacc8d40e>\u001b[0m in \u001b[0;36m<module>\u001b[0;34m\u001b[0m\n\u001b[1;32m      2\u001b[0m \u001b[0ml\u001b[0m \u001b[0;34m=\u001b[0m \u001b[0mmat\u001b[0m\u001b[0;34m[\u001b[0m\u001b[0;34m\"L\"\u001b[0m\u001b[0;34m]\u001b[0m\u001b[0;34m\u001b[0m\u001b[0;34m\u001b[0m\u001b[0m\n\u001b[1;32m      3\u001b[0m \u001b[0;34m\u001b[0m\u001b[0m\n\u001b[0;32m----> 4\u001b[0;31m \u001b[0msoftsvm\u001b[0m\u001b[0;34m(\u001b[0m\u001b[0mX\u001b[0m\u001b[0;34m,\u001b[0m \u001b[0ml\u001b[0m\u001b[0;34m,\u001b[0m \u001b[0;36m0.005\u001b[0m\u001b[0;34m)\u001b[0m\u001b[0;34m\u001b[0m\u001b[0;34m\u001b[0m\u001b[0m\n\u001b[0m",
      "\u001b[0;32m<ipython-input-9-a618da301df5>\u001b[0m in \u001b[0;36msoftsvm\u001b[0;34m(X, l, gamma)\u001b[0m\n\u001b[1;32m     24\u001b[0m     \u001b[0mb\u001b[0m \u001b[0;34m=\u001b[0m \u001b[0mmatrix\u001b[0m\u001b[0;34m(\u001b[0m\u001b[0mb\u001b[0m\u001b[0;34m.\u001b[0m\u001b[0mastype\u001b[0m\u001b[0;34m(\u001b[0m\u001b[0;34m'float'\u001b[0m\u001b[0;34m)\u001b[0m\u001b[0;34m)\u001b[0m\u001b[0;34m\u001b[0m\u001b[0;34m\u001b[0m\u001b[0m\n\u001b[1;32m     25\u001b[0m \u001b[0;34m\u001b[0m\u001b[0m\n\u001b[0;32m---> 26\u001b[0;31m     \u001b[0msol\u001b[0m \u001b[0;34m=\u001b[0m \u001b[0mcvxopt\u001b[0m\u001b[0;34m.\u001b[0m\u001b[0msolvers\u001b[0m\u001b[0;34m.\u001b[0m\u001b[0mqp\u001b[0m\u001b[0;34m(\u001b[0m\u001b[0mP\u001b[0m\u001b[0;34m,\u001b[0m\u001b[0mq\u001b[0m\u001b[0;34m,\u001b[0m\u001b[0mG\u001b[0m\u001b[0;34m,\u001b[0m \u001b[0mh\u001b[0m\u001b[0;34m,\u001b[0m \u001b[0mA\u001b[0m\u001b[0;34m,\u001b[0m \u001b[0mb\u001b[0m\u001b[0;34m)\u001b[0m\u001b[0;34m\u001b[0m\u001b[0;34m\u001b[0m\u001b[0m\n\u001b[0m\u001b[1;32m     27\u001b[0m     \u001b[0;31m#http://cvxopt.org/userguide/coneprog.html#quadratic-programming\u001b[0m\u001b[0;34m\u001b[0m\u001b[0;34m\u001b[0m\u001b[0;34m\u001b[0m\u001b[0m\n\u001b[1;32m     28\u001b[0m \u001b[0;34m\u001b[0m\u001b[0m\n",
      "\u001b[0;32m/usr/local/lib/python3.7/site-packages/cvxopt/coneprog.py\u001b[0m in \u001b[0;36mqp\u001b[0;34m(P, q, G, h, A, b, solver, kktsolver, initvals, **kwargs)\u001b[0m\n\u001b[1;32m   4483\u001b[0m             'residual as dual infeasibility certificate': dinfres}\n\u001b[1;32m   4484\u001b[0m \u001b[0;34m\u001b[0m\u001b[0m\n\u001b[0;32m-> 4485\u001b[0;31m     \u001b[0;32mreturn\u001b[0m \u001b[0mconeqp\u001b[0m\u001b[0;34m(\u001b[0m\u001b[0mP\u001b[0m\u001b[0;34m,\u001b[0m \u001b[0mq\u001b[0m\u001b[0;34m,\u001b[0m \u001b[0mG\u001b[0m\u001b[0;34m,\u001b[0m \u001b[0mh\u001b[0m\u001b[0;34m,\u001b[0m \u001b[0;32mNone\u001b[0m\u001b[0;34m,\u001b[0m \u001b[0mA\u001b[0m\u001b[0;34m,\u001b[0m  \u001b[0mb\u001b[0m\u001b[0;34m,\u001b[0m \u001b[0minitvals\u001b[0m\u001b[0;34m,\u001b[0m \u001b[0mkktsolver\u001b[0m \u001b[0;34m=\u001b[0m \u001b[0mkktsolver\u001b[0m\u001b[0;34m,\u001b[0m \u001b[0moptions\u001b[0m \u001b[0;34m=\u001b[0m \u001b[0moptions\u001b[0m\u001b[0;34m)\u001b[0m\u001b[0;34m\u001b[0m\u001b[0;34m\u001b[0m\u001b[0m\n\u001b[0m",
      "\u001b[0;32m/usr/local/lib/python3.7/site-packages/cvxopt/coneprog.py\u001b[0m in \u001b[0;36mconeqp\u001b[0;34m(P, q, G, h, dims, A, b, initvals, kktsolver, xnewcopy, xdot, xaxpy, xscal, ynewcopy, ydot, yaxpy, yscal, **kwargs)\u001b[0m\n\u001b[1;32m   1893\u001b[0m         \u001b[0;32mif\u001b[0m \u001b[0mG\u001b[0m\u001b[0;34m.\u001b[0m\u001b[0mtypecode\u001b[0m \u001b[0;34m!=\u001b[0m \u001b[0;34m'd'\u001b[0m \u001b[0;32mor\u001b[0m \u001b[0mG\u001b[0m\u001b[0;34m.\u001b[0m\u001b[0msize\u001b[0m \u001b[0;34m!=\u001b[0m \u001b[0;34m(\u001b[0m\u001b[0mcdim\u001b[0m\u001b[0;34m,\u001b[0m \u001b[0mq\u001b[0m\u001b[0;34m.\u001b[0m\u001b[0msize\u001b[0m\u001b[0;34m[\u001b[0m\u001b[0;36m0\u001b[0m\u001b[0;34m]\u001b[0m\u001b[0;34m)\u001b[0m\u001b[0;34m:\u001b[0m\u001b[0;34m\u001b[0m\u001b[0;34m\u001b[0m\u001b[0m\n\u001b[1;32m   1894\u001b[0m             raise TypeError(\"'G' must be a 'd' matrix of size (%d, %d)\"\\\n\u001b[0;32m-> 1895\u001b[0;31m                 %(cdim, q.size[0]))\n\u001b[0m\u001b[1;32m   1896\u001b[0m         \u001b[0;32mdef\u001b[0m \u001b[0mfG\u001b[0m\u001b[0;34m(\u001b[0m\u001b[0mx\u001b[0m\u001b[0;34m,\u001b[0m \u001b[0my\u001b[0m\u001b[0;34m,\u001b[0m \u001b[0mtrans\u001b[0m \u001b[0;34m=\u001b[0m \u001b[0;34m'N'\u001b[0m\u001b[0;34m,\u001b[0m \u001b[0malpha\u001b[0m \u001b[0;34m=\u001b[0m \u001b[0;36m1.0\u001b[0m\u001b[0;34m,\u001b[0m \u001b[0mbeta\u001b[0m \u001b[0;34m=\u001b[0m \u001b[0;36m0.0\u001b[0m\u001b[0;34m)\u001b[0m\u001b[0;34m:\u001b[0m\u001b[0;34m\u001b[0m\u001b[0;34m\u001b[0m\u001b[0m\n\u001b[1;32m   1897\u001b[0m             misc.sgemv(G, x, y, dims, trans = trans, alpha = alpha,\n",
      "\u001b[0;31mTypeError\u001b[0m: 'G' must be a 'd' matrix of size (7339, 7339)"
     ]
    }
   ],
   "source": [
    "X = mat[\"X\"]\n",
    "l = mat[\"L\"]\n",
    "\n",
    "    D,N = X.shape\n",
    "\n",
    "    x = np.repeat(1, N + D + 1) #should it be 1? i honestly dont know\n",
    "    #G = np.identity(n=N+D+1) * np.concatenate((np.repeat(0.00001, N), np.repeat(1, D), np.repeat(0.00001,1)), axis = 0)\n",
    "    P = np.identity(n=N+D+1) * np.concatenate((np.repeat(0, N), np.repeat(1, D), np.repeat(0,1)), axis = 0)\n",
    "    q = np.concatenate((np.repeat(1, N), np.repeat(0, D + 1)))\n",
    "    G =np.concatenate((-1*np.identity(N), np.transpose(np.dot(np.identity(N) * l, np.transpose(X))), np.transpose(-1*l)))\n",
    "    G= np.transpose(G)\n",
    "    h = np.repeat(-1, G.shape[1]) \n",
    "    A = np.identity(n = N + D + 1)\n",
    "    b= np.repeat(1, N + D + 1)\n",
    "    \n",
    "    P = matrix(P.astype('float'))\n",
    "    q = matrix(q.astype('float'))\n",
    "    G = matrix(G.astype('float'))\n",
    "    h = matrix(h.astype('float'))\n",
    "    A = matrix(A.astype('float'))\n",
    "    b = matrix(b.astype('float'))\n",
    "\n",
    "    sol = cvxopt.solvers.qp(P, q, G, h, A, b)\n",
    "    #http://cvxopt.org/userguide/coneprog.html#quadratic-programming\n",
    "    \n",
    "  \n",
    "    #construct H, f, A, b, and lb\n",
    "    #quadprog.solve_qp()\n",
    "        #min 1/2 (x.T G X + ax)\n",
    "        #st c x <= b\n",
    "    sol=solvers.qp(Q, p, h)\n",
    "    \n",
    "    #sol = quadprog.solve_qp(G, a, c, b, meq)\n",
    "\n",
    "# distribute components of x into w, b, and xi:\n",
    "\n",
    "softsvm(X, l, 0.005)"
   ]
  },
  {
   "cell_type": "code",
   "execution_count": null,
   "metadata": {},
   "outputs": [],
   "source": []
  }
 ],
 "metadata": {
  "kernelspec": {
   "display_name": "Python 3",
   "language": "python",
   "name": "python3"
  },
  "language_info": {
   "codemirror_mode": {
    "name": "ipython",
    "version": 3
   },
   "file_extension": ".py",
   "mimetype": "text/x-python",
   "name": "python",
   "nbconvert_exporter": "python",
   "pygments_lexer": "ipython3",
   "version": "3.7.4"
  }
 },
 "nbformat": 4,
 "nbformat_minor": 4
}
