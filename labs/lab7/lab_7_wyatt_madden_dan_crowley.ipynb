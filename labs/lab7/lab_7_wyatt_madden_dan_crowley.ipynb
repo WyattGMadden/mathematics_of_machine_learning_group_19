{
 "cells": [
  {
   "cell_type": "markdown",
   "metadata": {},
   "source": [
    "# Lab 7 - Wyatt Madden & Dan Crowley"
   ]
  },
  {
   "cell_type": "code",
   "execution_count": 1,
   "metadata": {},
   "outputs": [],
   "source": [
    "import scipy.io as scipy_io\n",
    "from scipy import sparse \n",
    "import numpy as np\n",
    "import quadprog\n",
    "import math\n",
    "import cvxopt\n",
    "import matplotlib.pyplot as plt\n",
    "\n",
    "from cvxopt import matrix, solvers \n",
    "from sklearn.svm import SVC"
   ]
  },
  {
   "cell_type": "code",
   "execution_count": 2,
   "metadata": {},
   "outputs": [],
   "source": [
    "mat = scipy_io.loadmat('cbcl1.mat')"
   ]
  },
  {
   "cell_type": "code",
   "execution_count": 3,
   "metadata": {},
   "outputs": [],
   "source": [
    "    \n",
    "def softsvm(X, l, gamma):\n",
    "    D,N = X.shape\n",
    "\n",
    "    x = np.repeat(1, N + D + 1) #should it be 1? i honestly dont know\n",
    "    G = np.identity(n=N+D+1) * np.concatenate((np.repeat(0.00001, N), np.repeat(1, D), np.repeat(0.00001,1)), axis = 0)\n",
    "    \n",
    "    P = np.identity(n=N+D+1) * np.concatenate((np.repeat(0, N), np.repeat(1, D), np.repeat(0,1)), axis = 0)\n",
    "    q = np.concatenate((np.repeat(gamma, N), np.repeat(0, D + 1)))\n",
    "    \n",
    "    I_n = -1*np.identity(N)\n",
    "    LdotX = -1*np.dot(np.identity(N) * l, np.transpose(X))\n",
    "    lil_l = -1*l\n",
    "    \n",
    "    #now create the bottom part of \"G\", the infinity section\n",
    "    \n",
    "    G_bottom = -1*np.identity(n=N+D+1)\n",
    "    G = np.concatenate((I_n, np.transpose(LdotX), np.transpose(lil_l)))\n",
    "    #G =np.concatenate((-1*np.identity(N), np.transpose(np.dot(np.identity(N) * l, np.transpose(X))), np.transpose(-1*l)))\n",
    "    G= np.transpose(G)\n",
    "    \n",
    "    Gstack = np.concatenate((G, G_bottom))\n",
    "    h = np.concatenate((np.repeat(-1, G.shape[0]), np.zeros(N,), 100000*np.ones(D+1)))\n",
    "     \n",
    "    A = np.identity(n = N + D + 1)\n",
    "    b= np.repeat(1, N + D +1)\n",
    "    \n",
    "    P = matrix(P.astype('float'))\n",
    "    q = matrix(q.astype('float'))\n",
    "    Gstack = matrix(Gstack.astype('float'))\n",
    "    h = matrix(h.astype('float'))\n",
    "    A = matrix(A.astype('float'))\n",
    "    b = matrix(b.astype('float'))\n",
    "\n",
    "    sol = cvxopt.solvers.qp(P,q,Gstack, h)\n",
    "    #http://cvxopt.org/userguide/coneprog.html#quadratic-programming\n",
    "    #quadprog.solve_qp()\n",
    "        #min 1/2 (x.T P X + q.T x)\n",
    "        #st G x <= h\n",
    "        #st A x =  b\n",
    "    \n",
    "    #sol = quadprog.solve_qp(G, a, c, b, meq)\n",
    "\n",
    "# distribute components of x into w, b, and xi:\n",
    "\n",
    "    xi = np.array(sol['x'][0:(N)])\n",
    "    w = np.array(sol['x'][N:(N + D)])\n",
    "    b = np.array(sol['x'][N + D])\n",
    "    \n",
    "    return(w, b, xi)\n",
    "\n",
    "\n"
   ]
  },
  {
   "cell_type": "code",
   "execution_count": 4,
   "metadata": {},
   "outputs": [
    {
     "name": "stdout",
     "output_type": "stream",
     "text": [
      "     pcost       dcost       gap    pres   dres\n",
      " 0:  1.8727e+05 -8.4110e+09  4e+11  2e-02  1e+09\n",
      " 1:  1.9626e+05 -4.2141e+09  4e+09  2e-04  1e+07\n",
      " 2:  1.4407e+05 -1.0366e+08  1e+08  5e-06  3e+05\n",
      " 3:  4.0404e+04 -8.0265e+06  8e+06  4e-07  2e+04\n",
      " 4:  1.6922e+04 -1.6638e+06  2e+06  6e-08  4e+03\n",
      " 5:  1.2669e+04 -2.0606e+05  2e+05  8e-09  5e+02\n",
      " 6:  1.1209e+04 -9.8884e+03  2e+04  4e-10  2e+01\n",
      " 7:  2.1797e+03 -1.3819e+02  2e+03  8e-13  6e-02\n",
      " 8:  5.3370e+02 -4.0381e+01  6e+02  1e-13  9e-03\n",
      " 9:  3.8516e+02 -2.5981e+01  4e+02  7e-14  5e-03\n",
      "10:  8.0327e+01 -4.6118e+00  8e+01  1e-14  9e-04\n",
      "11:  3.5905e+01  2.0033e+00  3e+01  4e-15  2e-04\n",
      "12:  1.8969e+01  4.8980e+00  1e+01  1e-15  8e-05\n",
      "13:  1.5663e+01  5.8390e+00  1e+01  7e-16  5e-05\n",
      "14:  1.2604e+01  6.7196e+00  6e+00  4e-16  3e-05\n",
      "15:  1.1518e+01  7.1137e+00  4e+00  3e-16  2e-05\n",
      "16:  1.0206e+01  7.6109e+00  3e+00  2e-16  9e-06\n",
      "17:  9.5774e+00  7.8854e+00  2e+00  2e-16  5e-06\n",
      "18:  9.1323e+00  8.0907e+00  1e+00  2e-16  3e-06\n",
      "19:  8.9003e+00  8.2040e+00  7e-01  2e-16  2e-06\n",
      "20:  8.7007e+00  8.3093e+00  4e-01  2e-16  8e-07\n",
      "21:  8.6170e+00  8.3549e+00  3e-01  2e-16  5e-07\n",
      "22:  8.5239e+00  8.4115e+00  1e-01  2e-16  2e-07\n",
      "23:  8.4740e+00  8.4417e+00  3e-02  2e-16  2e-08\n",
      "24:  8.4591e+00  8.4536e+00  5e-03  2e-16  2e-10\n",
      "25:  8.4566e+00  8.4561e+00  5e-04  2e-16  1e-11\n",
      "26:  8.4564e+00  8.4563e+00  2e-05  2e-16  1e-12\n",
      "27:  8.4564e+00  8.4564e+00  4e-07  2e-16  5e-12\n",
      "Optimal solution found.\n"
     ]
    }
   ],
   "source": [
    "X = mat[\"X\"]\n",
    "l = mat[\"L\"]\n",
    "dims = mat[\"dims\"]\n",
    "temp = softsvm(X, l, 0.005)\n",
    "\n",
    "w = temp[0]\n",
    "b = temp[1]\n",
    "xi = temp[2]"
   ]
  },
  {
   "cell_type": "code",
   "execution_count": 5,
   "metadata": {},
   "outputs": [
    {
     "data": {
      "text/plain": [
       "<matplotlib.image.AxesImage at 0x10d62af90>"
      ]
     },
     "execution_count": 5,
     "metadata": {},
     "output_type": "execute_result"
    },
    {
     "data": {
      "image/png": "[encoded data removed]",
      "text/plain": [
       "<Figure size 432x288 with 1 Axes>"
      ]
     },
     "metadata": {
      "needs_background": "light"
     },
     "output_type": "display_data"
    }
   ],
   "source": [
    "dat_2 = np.reshape(w, [dims[0][0], dims[0][1]])\n",
    "plt.imshow(dat_2, extent=[0, 1, 0, 1])"
   ]
  },
  {
   "cell_type": "markdown",
   "metadata": {},
   "source": [
    "# 3"
   ]
  },
  {
   "cell_type": "code",
   "execution_count": 6,
   "metadata": {},
   "outputs": [
    {
     "data": {
      "text/plain": [
       "<matplotlib.image.AxesImage at 0x1a213ee710>"
      ]
     },
     "execution_count": 6,
     "metadata": {},
     "output_type": "execute_result"
    },
    {
     "data": {
      "image/png": "[encoded data removed]",
      "text/plain": [
       "<Figure size 432x288 with 1 Axes>"
      ]
     },
     "metadata": {
      "needs_background": "light"
     },
     "output_type": "display_data"
    }
   ],
   "source": [
    "dat_3 = np.dot(np.transpose(X), w) + b\n",
    "plt.imshow(dat_3, extent=[0, 1, 0, 1])"
   ]
  },
  {
   "cell_type": "code",
   "execution_count": 7,
   "metadata": {},
   "outputs": [
    {
     "data": {
      "text/plain": [
       "<matplotlib.image.AxesImage at 0x1a21474550>"
      ]
     },
     "execution_count": 7,
     "metadata": {},
     "output_type": "execute_result"
    },
    {
     "data": {
      "image/png": "[encoded data removed]",
      "text/plain": [
       "<Figure size 432x288 with 1 Axes>"
      ]
     },
     "metadata": {
      "needs_background": "light"
     },
     "output_type": "display_data"
    }
   ],
   "source": [
    "plt.imshow(l, extent=[0, 1, 0, 1])"
   ]
  },
  {
   "cell_type": "markdown",
   "metadata": {},
   "source": [
    "# 4"
   ]
  },
  {
   "cell_type": "markdown",
   "metadata": {},
   "source": [
    "# 5"
   ]
  },
  {
   "cell_type": "code",
   "execution_count": 9,
   "metadata": {},
   "outputs": [
    {
     "data": {
      "image/png": "[encoded data removed]",
      "text/plain": [
       "<Figure size 432x288 with 1 Axes>"
      ]
     },
     "metadata": {
      "needs_background": "light"
     },
     "output_type": "display_data"
    }
   ],
   "source": [
    "max_image = np.transpose(X)[np.argmax(dat_3), ]\n",
    "\n",
    "\n",
    "fig = plt.imshow(np.reshape(max_image, [dims[0][0], dims[0][1]]))"
   ]
  },
  {
   "cell_type": "code",
   "execution_count": 11,
   "metadata": {},
   "outputs": [
    {
     "data": {
      "image/png": "[encoded data removed]",
      "text/plain": [
       "<Figure size 432x288 with 1 Axes>"
      ]
     },
     "metadata": {
      "needs_background": "light"
     },
     "output_type": "display_data"
    }
   ],
   "source": [
    "min_image = np.transpose(X)[np.argmin(dat_3), ]\n",
    "fig = plt.imshow(np.reshape(min_image, [dims[0][0], dims[0][1]]))"
   ]
  },
  {
   "cell_type": "code",
   "execution_count": 15,
   "metadata": {},
   "outputs": [
    {
     "data": {
      "text/plain": [
       "Text(0, 0.5, 'Slack Variable')"
      ]
     },
     "execution_count": 15,
     "metadata": {},
     "output_type": "execute_result"
    },
    {
     "data": {
      "image/png": "[encoded data removed]",
      "text/plain": [
       "<Figure size 432x288 with 1 Axes>"
      ]
     },
     "metadata": {
      "needs_background": "light"
     },
     "output_type": "display_data"
    }
   ],
   "source": [
    "pred = np.dot(np.transpose(X), w) + b\n",
    "np.sign(l) == np.sign(pred)\n",
    "xi.shape\n",
    "pred.shape\n",
    "plt.scatter(y = xi, x = pred, c = np.sign(l) == np.sign(pred))\n",
    "plt.xlabel(\"SVM Prediction\")\n",
    "plt.ylabel(\"Slack Variable\")\n"
   ]
  },
  {
   "cell_type": "markdown",
   "metadata": {},
   "source": [
    " The slack variables for the correct predictions, in yellow, are 0 until the predictions start to approach 0. Once they meet and start moving away from 0 again the color changes to purple, these predictions were not correct. "
   ]
  },
  {
   "cell_type": "markdown",
   "metadata": {},
   "source": [
    "# 6"
   ]
  },
  {
   "cell_type": "code",
   "execution_count": 6,
   "metadata": {},
   "outputs": [],
   "source": [
    "news = scipy_io.loadmat('news.mat')\n",
    "\n",
    "X = news[\"X\"]\n",
    "l = news[\"L\"]\n",
    "words = news[\"dict\"]\n",
    "\n",
    "temp = softsvm(X, l, 0.005)\n",
    "\n",
    "w = temp[0]\n",
    "b = temp[1]\n",
    "xi = temp[2]"
   ]
  },
  {
   "cell_type": "code",
   "execution_count": 7,
   "metadata": {},
   "outputs": [],
   "source": [
    "max_locs = np.argpartition(w.reshape(1, w.size), -5)[0][-5:]\n",
    "max_word = np.transpose(words)[max_locs, ]"
   ]
  },
  {
   "cell_type": "code",
   "execution_count": 8,
   "metadata": {},
   "outputs": [],
   "source": [
    "min_locs = np.argpartition(w.reshape(1, w.size), -5)[0][:5]\n",
    "min_word = np.transpose(words)[min_locs, ]"
   ]
  },
  {
   "cell_type": "code",
   "execution_count": 15,
   "metadata": {},
   "outputs": [
    {
     "data": {
      "text/plain": [
       "array(['science                                                                        ',\n",
       "       'orbit                                                                          ',\n",
       "       'pat                                                                            ',\n",
       "       'space                                                                          ',\n",
       "       'moon                                                                           '],\n",
       "      dtype='<U79')"
      ]
     },
     "execution_count": 15,
     "metadata": {},
     "output_type": "execute_result"
    }
   ],
   "source": [
    "max_word"
   ]
  },
  {
   "cell_type": "markdown",
   "metadata": {},
   "source": [
    "Based on the weights, science, orbit, pat, space, and moon are all heavily weighted. This suggests these words are those that best seperate our two classes.\n",
    "\n",
    "Are lowest weighted words have nothing to do with space, there is not an obvious pattern which is reassuring."
   ]
  },
  {
   "cell_type": "code",
   "execution_count": 16,
   "metadata": {},
   "outputs": [
    {
     "data": {
      "text/plain": [
       "array(['900                                                                            ',\n",
       "       'enigma                                                                         ',\n",
       "       'mvanheyn                                                                       ',\n",
       "       'cs                                                                             ',\n",
       "       'indiana                                                                        '],\n",
       "      dtype='<U79')"
      ]
     },
     "execution_count": 16,
     "metadata": {},
     "output_type": "execute_result"
    }
   ],
   "source": [
    "min_word"
   ]
  },
  {
   "cell_type": "markdown",
   "metadata": {},
   "source": [
    "Next, to see what was associated with the word 'space' we tried taking the inner product of space with the rest of the dataset. 56 of the words had a norm of 0, so we added a small number to be able to divide each vector by its norm without getting a divide by 0 error.  We got the following words, after normalizing the matrix"
   ]
  },
  {
   "cell_type": "markdown",
   "metadata": {},
   "source": []
  },
  {
   "cell_type": "code",
   "execution_count": 128,
   "metadata": {},
   "outputs": [],
   "source": [
    "Xnorm = X / (0.00001 + np.linalg.norm(X, axis=1)[:,None]) #get read of 0 norm vectors\n",
    "cov = (np.dot(X[1544,:]/np.linalg.norm(X[1544,:]), np.transpose(Xnorm)))\n",
    "\n",
    "#plt.hist(cov)\n",
    "#max_locs = np.argpartition(cov.reshape(1, cov.size), -5)[0][:5]\n",
    "#max_word = np.transpose(words)[max_locs, ]\n",
    "\n",
    "#print(max_locs)\n",
    "#print(max_word)"
   ]
  },
  {
   "cell_type": "code",
   "execution_count": 122,
   "metadata": {},
   "outputs": [
    {
     "name": "stdout",
     "output_type": "stream",
     "text": [
      "[3304 1544 7089 5367 8390]\n",
      "['march                                                                          '\n",
      " 'space                                                                          '\n",
      " 'satellite                                                                      '\n",
      " 'satellites                                                                     '\n",
      " '1995                                                                           ']\n"
     ]
    }
   ],
   "source": [
    "max_locs = np.argpartition(cov.reshape(1, cov.size), -5)[0][-5:]\n",
    "max_word = np.transpose(words)[max_locs, ]\n",
    "\n",
    "print(max_locs)\n",
    "print(max_word)"
   ]
  },
  {
   "cell_type": "markdown",
   "metadata": {},
   "source": [
    "To me, logically, the words most related to space are those with the normalized inner product closest to 1. The question isn't necessarily about which ones best seperate the two classes. Now, I would think, if two words are co-linear they would be weighted similarly. If I expand the words out maybe I will see words with similarly high weights, as seen several lines up. "
   ]
  },
  {
   "cell_type": "code",
   "execution_count": 131,
   "metadata": {},
   "outputs": [
    {
     "name": "stdout",
     "output_type": "stream",
     "text": [
      "[9434 8165 8797 5076 9430 7974 3408 9431 8123 9433 4858  440 8173 9429\n",
      " 7829 3304 1544 7089 5367 8390]\n",
      "['mlv                                                                            '\n",
      " 'projections                                                                    '\n",
      " 'condor                                                                         '\n",
      " 'sales                                                                          '\n",
      " 'capricornia                                                                    '\n",
      " 'launch                                                                         '\n",
      " 'venture                                                                        '\n",
      " 'pacastro                                                                       '\n",
      " 'positioning                                                                    '\n",
      " 'iridium                                                                        '\n",
      " 'contrast                                                                       '\n",
      " 'planned                                                                        '\n",
      " 'arianespace                                                                    '\n",
      " 'ntsb                                                                           '\n",
      " 'intervals                                                                      '\n",
      " 'march                                                                          '\n",
      " 'space                                                                          '\n",
      " 'satellite                                                                      '\n",
      " 'satellites                                                                     '\n",
      " '1995                                                                           ']\n"
     ]
    }
   ],
   "source": [
    "max_locs = np.argpartition(cov.reshape(1, cov.size), -5)[0][-20:]\n",
    "max_word = np.transpose(words)[max_locs, ]\n",
    "\n",
    "print(max_locs)\n",
    "print(max_word)"
   ]
  },
  {
   "cell_type": "markdown",
   "metadata": {},
   "source": [
    "Below, we looked at the words with the smallest inner product. There does not appear to be much pattern here. SARSAT has to do with space, so that is concerning. "
   ]
  },
  {
   "cell_type": "code",
   "execution_count": 127,
   "metadata": {},
   "outputs": [
    {
     "name": "stdout",
     "output_type": "stream",
     "text": [
      "[1746 4827 9631 9617 9616]\n",
      "['intentions                                                                     '\n",
      " 'enigma                                                                         '\n",
      " 'mccolm                                                                         '\n",
      " 'unocal                                                                         '\n",
      " 'sarsat                                                                         ']\n",
      "1.0\n",
      "0.0\n"
     ]
    }
   ],
   "source": [
    "max_locs = np.argpartition(cov.reshape(1, cov.size), -5)[0][:5]\n",
    "max_word = np.transpose(words)[max_locs, ]\n",
    "\n",
    "print(max_locs)\n",
    "print(max_word)\n",
    "\n",
    "#print(np.dot(X[1544,:]/np.linalg.norm(X[1544,:]), np.transpose(X[1544,:]/np.linalg.norm(X[1544,:]))))\n",
    "#print(np.dot(X[1544,:]/np.linalg.norm(X[1544,:]), np.transpose(X[9616,:]/np.linalg.norm(X[9616,:]))))\n"
   ]
  },
  {
   "cell_type": "markdown",
   "metadata": {},
   "source": [
    "EXTRA: I am assuming this question is more challenging than it appers. If newspaper was linear seperable, I would assume the graph below would be completely yellow (all correct) and there would be a gap in the dots around 0. The fact that there are predictions close to 0, some of which are wrong, makes me think the data set is not linearly seperable. "
   ]
  },
  {
   "cell_type": "code",
   "execution_count": 133,
   "metadata": {},
   "outputs": [
    {
     "data": {
      "text/plain": [
       "Text(0, 0.5, 'Slack Variable')"
      ]
     },
     "execution_count": 133,
     "metadata": {},
     "output_type": "execute_result"
    },
    {
     "data": {
      "image/png": "[encoded data removed]",
      "text/plain": [
       "<Figure size 432x288 with 1 Axes>"
      ]
     },
     "metadata": {
      "needs_background": "light"
     },
     "output_type": "display_data"
    }
   ],
   "source": [
    "pred = np.dot(np.transpose(X), w) + b\n",
    "np.sign(l) == np.sign(pred)\n",
    "xi.shape\n",
    "pred.shape\n",
    "plt.scatter(y = xi, x = pred, c = np.sign(l) == np.sign(pred))\n",
    "plt.xlim(-2,  2)\n",
    "plt.xlabel(\"SVM Prediction\")\n",
    "plt.ylabel(\"Slack Variable\")"
   ]
  },
  {
   "cell_type": "markdown",
   "metadata": {},
   "source": []
  },
  {
   "cell_type": "code",
   "execution_count": null,
   "metadata": {},
   "outputs": [],
   "source": []
  }
 ],
 "metadata": {
  "kernelspec": {
   "display_name": "Python 3",
   "language": "python",
   "name": "python3"
  },
  "language_info": {
   "codemirror_mode": {
    "name": "ipython",
    "version": 3
   },
   "file_extension": ".py",
   "mimetype": "text/x-python",
   "name": "python",
   "nbconvert_exporter": "python",
   "pygments_lexer": "ipython3",
   "version": "3.7.4"
  }
 },
 "nbformat": 4,
 "nbformat_minor": 4
}
