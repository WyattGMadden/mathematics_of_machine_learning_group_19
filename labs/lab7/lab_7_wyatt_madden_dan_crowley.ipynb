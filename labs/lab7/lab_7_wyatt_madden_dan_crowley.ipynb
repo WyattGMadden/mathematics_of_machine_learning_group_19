{
 "cells": [
  {
   "cell_type": "markdown",
   "metadata": {},
   "source": [
    "# Lab 7 - Wyatt Madden & Dan Crowley"
   ]
  },
  {
   "cell_type": "code",
   "execution_count": 1,
   "metadata": {},
   "outputs": [],
   "source": [
    "import scipy.io as scipy_io\n",
    "from scipy import sparse \n",
    "import numpy as np\n",
    "import quadprog\n",
    "import math\n",
    "import cvxopt\n",
    "import matplotlib.pyplot as plt\n",
    "\n",
    "from cvxopt import matrix, solvers \n",
    "from sklearn.svm import SVC"
   ]
  },
  {
   "cell_type": "code",
   "execution_count": 2,
   "metadata": {},
   "outputs": [],
   "source": [
    "mat = scipy_io.loadmat('cbcl1.mat')"
   ]
  },
  {
   "cell_type": "code",
   "execution_count": 3,
   "metadata": {},
   "outputs": [],
   "source": [
    "    \n",
    "def softsvm(X, l, gamma):\n",
    "    D,N = X.shape\n",
    "\n",
    "    x = np.repeat(1, N + D + 1) #should it be 1? i honestly dont know\n",
    "    G = np.identity(n=N+D+1) * np.concatenate((np.repeat(0.00001, N), np.repeat(1, D), np.repeat(0.00001,1)), axis = 0)\n",
    "    \n",
    "    P = np.identity(n=N+D+1) * np.concatenate((np.repeat(0, N), np.repeat(1, D), np.repeat(0,1)), axis = 0)\n",
    "    q = np.concatenate((np.repeat(gamma, N), np.repeat(0, D + 1)))\n",
    "    \n",
    "    I_n = -1*np.identity(N)\n",
    "    LdotX = -1*np.dot(np.identity(N) * l, np.transpose(X))\n",
    "    lil_l = -1*l\n",
    "    \n",
    "    #now create the bottom part of \"G\", the infinity section\n",
    "    \n",
    "    G_bottom = -1*np.identity(n=N+D+1)\n",
    "    G = np.concatenate((I_n, np.transpose(LdotX), np.transpose(lil_l)))\n",
    "    #G =np.concatenate((-1*np.identity(N), np.transpose(np.dot(np.identity(N) * l, np.transpose(X))), np.transpose(-1*l)))\n",
    "    G= np.transpose(G)\n",
    "    \n",
    "    Gstack = np.concatenate((G, G_bottom))\n",
    "    h = np.concatenate((np.repeat(-1, G.shape[0]), np.zeros(N,), 100000*np.ones(D+1)))\n",
    "     \n",
    "    A = np.identity(n = N + D + 1)\n",
    "    b= np.repeat(1, N + D +1)\n",
    "    \n",
    "    P = matrix(P.astype('float'))\n",
    "    q = matrix(q.astype('float'))\n",
    "    Gstack = matrix(Gstack.astype('float'))\n",
    "    h = matrix(h.astype('float'))\n",
    "    A = matrix(A.astype('float'))\n",
    "    b = matrix(b.astype('float'))\n",
    "\n",
    "    sol = cvxopt.solvers.qp(P,q,Gstack, h)\n",
    "    #http://cvxopt.org/userguide/coneprog.html#quadratic-programming\n",
    "    #quadprog.solve_qp()\n",
    "        #min 1/2 (x.T P X + q.T x)\n",
    "        #st G x <= h\n",
    "        #st A x =  b\n",
    "    \n",
    "    #sol = quadprog.solve_qp(G, a, c, b, meq)\n",
    "\n",
    "# distribute components of x into w, b, and xi:\n",
    "\n",
    "    xi = np.array(sol['x'][0:(N)])\n",
    "    w = np.array(sol['x'][N:(N + D)])\n",
    "    b = np.array(sol['x'][N + D])\n",
    "    \n",
    "    return(w, b, xi)\n",
    "\n",
    "\n"
   ]
  },
  {
   "cell_type": "code",
   "execution_count": 4,
   "metadata": {},
   "outputs": [
    {
     "name": "stdout",
     "output_type": "stream",
     "text": [
      "     pcost       dcost       gap    pres   dres\n",
      " 0:  1.8727e+05 -8.4110e+09  4e+11  2e-02  1e+09\n",
      " 1:  1.9626e+05 -4.2141e+09  4e+09  2e-04  1e+07\n",
      " 2:  1.4407e+05 -1.0366e+08  1e+08  5e-06  3e+05\n",
      " 3:  4.0404e+04 -8.0265e+06  8e+06  4e-07  2e+04\n",
      " 4:  1.6922e+04 -1.6638e+06  2e+06  6e-08  4e+03\n",
      " 5:  1.2669e+04 -2.0606e+05  2e+05  8e-09  5e+02\n",
      " 6:  1.1209e+04 -9.8884e+03  2e+04  4e-10  2e+01\n",
      " 7:  2.1797e+03 -1.3819e+02  2e+03  8e-13  6e-02\n",
      " 8:  5.3370e+02 -4.0381e+01  6e+02  1e-13  9e-03\n",
      " 9:  3.8516e+02 -2.5981e+01  4e+02  7e-14  5e-03\n",
      "10:  8.0327e+01 -4.6118e+00  8e+01  1e-14  9e-04\n",
      "11:  3.5905e+01  2.0033e+00  3e+01  4e-15  2e-04\n",
      "12:  1.8969e+01  4.8980e+00  1e+01  1e-15  8e-05\n",
      "13:  1.5663e+01  5.8390e+00  1e+01  7e-16  5e-05\n",
      "14:  1.2604e+01  6.7196e+00  6e+00  4e-16  3e-05\n",
      "15:  1.1518e+01  7.1137e+00  4e+00  3e-16  2e-05\n",
      "16:  1.0206e+01  7.6109e+00  3e+00  2e-16  9e-06\n",
      "17:  9.5774e+00  7.8854e+00  2e+00  2e-16  5e-06\n",
      "18:  9.1323e+00  8.0907e+00  1e+00  2e-16  3e-06\n",
      "19:  8.9003e+00  8.2040e+00  7e-01  2e-16  2e-06\n",
      "20:  8.7007e+00  8.3093e+00  4e-01  2e-16  8e-07\n",
      "21:  8.6170e+00  8.3549e+00  3e-01  2e-16  5e-07\n",
      "22:  8.5239e+00  8.4115e+00  1e-01  2e-16  2e-07\n",
      "23:  8.4740e+00  8.4417e+00  3e-02  2e-16  2e-08\n",
      "24:  8.4591e+00  8.4536e+00  5e-03  2e-16  2e-10\n",
      "25:  8.4566e+00  8.4561e+00  5e-04  2e-16  1e-11\n",
      "26:  8.4564e+00  8.4563e+00  2e-05  2e-16  1e-12\n",
      "27:  8.4564e+00  8.4564e+00  4e-07  2e-16  5e-12\n",
      "Optimal solution found.\n"
     ]
    }
   ],
   "source": [
    "X = mat[\"X\"]\n",
    "l = mat[\"L\"]\n",
    "dims = mat[\"dims\"]\n",
    "temp = softsvm(X, l, 0.005)\n",
    "\n",
    "w = temp[0]\n",
    "b = temp[1]\n",
    "xi = temp[2]"
   ]
  },
  {
   "cell_type": "code",
   "execution_count": 5,
   "metadata": {},
   "outputs": [
    {
     "data": {
      "text/plain": [
       "<matplotlib.image.AxesImage at 0x10d62af90>"
      ]
     },
     "execution_count": 5,
     "metadata": {},
     "output_type": "execute_result"
    },
    {
     "data": {
      "image/png": "[encoded data removed]",
      "text/plain": [
       "<Figure size 432x288 with 1 Axes>"
      ]
     },
     "metadata": {
      "needs_background": "light"
     },
     "output_type": "display_data"
    }
   ],
   "source": [
    "dat_2 = np.reshape(w, [dims[0][0], dims[0][1]])\n",
    "plt.imshow(dat_2, extent=[0, 1, 0, 1])"
   ]
  },
  {
   "cell_type": "markdown",
   "metadata": {},
   "source": [
    "# 3"
   ]
  },
  {
   "cell_type": "code",
   "execution_count": 6,
   "metadata": {},
   "outputs": [
    {
     "data": {
      "text/plain": [
       "<matplotlib.image.AxesImage at 0x1a213ee710>"
      ]
     },
     "execution_count": 6,
     "metadata": {},
     "output_type": "execute_result"
    },
    {
     "data": {
      "image/png": "[encoded data removed]",
      "text/plain": [
       "<Figure size 432x288 with 1 Axes>"
      ]
     },
     "metadata": {
      "needs_background": "light"
     },
     "output_type": "display_data"
    }
   ],
   "source": [
    "dat_3 = np.dot(np.transpose(X), w) + b\n",
    "plt.imshow(dat_3, extent=[0, 1, 0, 1])"
   ]
  },
  {
   "cell_type": "code",
   "execution_count": 7,
   "metadata": {},
   "outputs": [
    {
     "data": {
      "text/plain": [
       "<matplotlib.image.AxesImage at 0x1a21474550>"
      ]
     },
     "execution_count": 7,
     "metadata": {},
     "output_type": "execute_result"
    },
    {
     "data": {
      "image/png": "[encoded data removed]",
      "text/plain": [
       "<Figure size 432x288 with 1 Axes>"
      ]
     },
     "metadata": {
      "needs_background": "light"
     },
     "output_type": "display_data"
    }
   ],
   "source": [
    "plt.imshow(l, extent=[0, 1, 0, 1])"
   ]
  },
  {
   "cell_type": "markdown",
   "metadata": {},
   "source": [
    "# 4"
   ]
  },
  {
   "cell_type": "markdown",
   "metadata": {},
   "source": [
    "# 5"
   ]
  },
  {
   "cell_type": "code",
   "execution_count": 9,
   "metadata": {},
   "outputs": [
    {
     "data": {
      "image/png": "[encoded data removed]",
      "text/plain": [
       "<Figure size 432x288 with 1 Axes>"
      ]
     },
     "metadata": {
      "needs_background": "light"
     },
     "output_type": "display_data"
    }
   ],
   "source": [
    "max_image = np.transpose(X)[np.argmax(dat_3), ]\n",
    "\n",
    "\n",
    "fig = plt.imshow(np.reshape(max_image, [dims[0][0], dims[0][1]]))"
   ]
  },
  {
   "cell_type": "code",
   "execution_count": 11,
   "metadata": {},
   "outputs": [
    {
     "data": {
      "image/png": "[encoded data removed]",
      "text/plain": [
       "<Figure size 432x288 with 1 Axes>"
      ]
     },
     "metadata": {
      "needs_background": "light"
     },
     "output_type": "display_data"
    }
   ],
   "source": [
    "min_image = np.transpose(X)[np.argmin(dat_3), ]\n",
    "fig = plt.imshow(np.reshape(min_image, [dims[0][0], dims[0][1]]))"
   ]
  },
  {
   "cell_type": "code",
   "execution_count": 15,
   "metadata": {},
   "outputs": [
    {
     "data": {
      "text/plain": [
       "Text(0, 0.5, 'Slack Variable')"
      ]
     },
     "execution_count": 15,
     "metadata": {},
     "output_type": "execute_result"
    },
    {
     "data": {
      "image/png": "[encoded data removed]",
      "text/plain": [
       "<Figure size 432x288 with 1 Axes>"
      ]
     },
     "metadata": {
      "needs_background": "light"
     },
     "output_type": "display_data"
    }
   ],
   "source": [
    "pred = np.dot(np.transpose(X), w) + b\n",
    "np.sign(l) == np.sign(pred)\n",
    "xi.shape\n",
    "pred.shape\n",
    "plt.scatter(y = xi, x = pred, c = np.sign(l) == np.sign(pred))\n",
    "plt.xlabel(\"SVM Prediction\")\n",
    "plt.ylabel(\"Slack Variable\")\n"
   ]
  },
  {
   "cell_type": "markdown",
   "metadata": {},
   "source": [
    " The slack variables for the correct predictions, in yellow, are 0 until the predictions start to approach 0. Once they meet and start moving away from 0 again the color changes to purple, these predictions were not correct. "
   ]
  },
  {
   "cell_type": "markdown",
   "metadata": {},
   "source": [
    "# 6"
   ]
  },
  {
   "cell_type": "code",
   "execution_count": 21,
   "metadata": {},
   "outputs": [
    {
     "name": "stdout",
     "output_type": "stream",
     "text": [
      "     pcost       dcost       gap    pres   dres\n",
      " 0:  8.8305e+12 -6.7989e+13  2e+14  7e-01  1e+09\n"
     ]
    },
    {
     "ename": "KeyboardInterrupt",
     "evalue": "",
     "output_type": "error",
     "traceback": [
      "\u001b[0;31m---------------------------------------------------------------------------\u001b[0m",
      "\u001b[0;31mKeyboardInterrupt\u001b[0m                         Traceback (most recent call last)",
      "\u001b[0;32m<ipython-input-21-68d586591bb3>\u001b[0m in \u001b[0;36m<module>\u001b[0;34m\u001b[0m\n\u001b[1;32m      5\u001b[0m \u001b[0mdict\u001b[0m \u001b[0;34m=\u001b[0m \u001b[0mnews\u001b[0m\u001b[0;34m[\u001b[0m\u001b[0;34m\"dict\"\u001b[0m\u001b[0;34m]\u001b[0m\u001b[0;34m\u001b[0m\u001b[0;34m\u001b[0m\u001b[0m\n\u001b[1;32m      6\u001b[0m \u001b[0;34m\u001b[0m\u001b[0m\n\u001b[0;32m----> 7\u001b[0;31m \u001b[0mtemp\u001b[0m \u001b[0;34m=\u001b[0m \u001b[0msoftsvm\u001b[0m\u001b[0;34m(\u001b[0m\u001b[0mX\u001b[0m\u001b[0;34m,\u001b[0m \u001b[0ml\u001b[0m\u001b[0;34m,\u001b[0m \u001b[0;36m0.005\u001b[0m\u001b[0;34m)\u001b[0m\u001b[0;34m\u001b[0m\u001b[0;34m\u001b[0m\u001b[0m\n\u001b[0m\u001b[1;32m      8\u001b[0m \u001b[0;34m\u001b[0m\u001b[0m\n\u001b[1;32m      9\u001b[0m \u001b[0mw\u001b[0m \u001b[0;34m=\u001b[0m \u001b[0mtemp\u001b[0m\u001b[0;34m[\u001b[0m\u001b[0;36m0\u001b[0m\u001b[0;34m]\u001b[0m\u001b[0;34m\u001b[0m\u001b[0;34m\u001b[0m\u001b[0m\n",
      "\u001b[0;32m<ipython-input-3-938ec262e64d>\u001b[0m in \u001b[0;36msoftsvm\u001b[0;34m(X, l, gamma)\u001b[0m\n\u001b[1;32m     32\u001b[0m     \u001b[0mb\u001b[0m \u001b[0;34m=\u001b[0m \u001b[0mmatrix\u001b[0m\u001b[0;34m(\u001b[0m\u001b[0mb\u001b[0m\u001b[0;34m.\u001b[0m\u001b[0mastype\u001b[0m\u001b[0;34m(\u001b[0m\u001b[0;34m'float'\u001b[0m\u001b[0;34m)\u001b[0m\u001b[0;34m)\u001b[0m\u001b[0;34m\u001b[0m\u001b[0;34m\u001b[0m\u001b[0m\n\u001b[1;32m     33\u001b[0m \u001b[0;34m\u001b[0m\u001b[0m\n\u001b[0;32m---> 34\u001b[0;31m     \u001b[0msol\u001b[0m \u001b[0;34m=\u001b[0m \u001b[0mcvxopt\u001b[0m\u001b[0;34m.\u001b[0m\u001b[0msolvers\u001b[0m\u001b[0;34m.\u001b[0m\u001b[0mqp\u001b[0m\u001b[0;34m(\u001b[0m\u001b[0mP\u001b[0m\u001b[0;34m,\u001b[0m\u001b[0mq\u001b[0m\u001b[0;34m,\u001b[0m\u001b[0mGstack\u001b[0m\u001b[0;34m,\u001b[0m \u001b[0mh\u001b[0m\u001b[0;34m)\u001b[0m\u001b[0;34m\u001b[0m\u001b[0;34m\u001b[0m\u001b[0m\n\u001b[0m\u001b[1;32m     35\u001b[0m     \u001b[0;31m#http://cvxopt.org/userguide/coneprog.html#quadratic-programming\u001b[0m\u001b[0;34m\u001b[0m\u001b[0;34m\u001b[0m\u001b[0;34m\u001b[0m\u001b[0m\n\u001b[1;32m     36\u001b[0m     \u001b[0;31m#quadprog.solve_qp()\u001b[0m\u001b[0;34m\u001b[0m\u001b[0;34m\u001b[0m\u001b[0;34m\u001b[0m\u001b[0m\n",
      "\u001b[0;32m~/opt/anaconda3/lib/python3.7/site-packages/cvxopt/coneprog.py\u001b[0m in \u001b[0;36mqp\u001b[0;34m(P, q, G, h, A, b, solver, kktsolver, initvals, **kwargs)\u001b[0m\n\u001b[1;32m   4485\u001b[0m             'residual as dual infeasibility certificate': dinfres}\n\u001b[1;32m   4486\u001b[0m \u001b[0;34m\u001b[0m\u001b[0m\n\u001b[0;32m-> 4487\u001b[0;31m     \u001b[0;32mreturn\u001b[0m \u001b[0mconeqp\u001b[0m\u001b[0;34m(\u001b[0m\u001b[0mP\u001b[0m\u001b[0;34m,\u001b[0m \u001b[0mq\u001b[0m\u001b[0;34m,\u001b[0m \u001b[0mG\u001b[0m\u001b[0;34m,\u001b[0m \u001b[0mh\u001b[0m\u001b[0;34m,\u001b[0m \u001b[0;32mNone\u001b[0m\u001b[0;34m,\u001b[0m \u001b[0mA\u001b[0m\u001b[0;34m,\u001b[0m  \u001b[0mb\u001b[0m\u001b[0;34m,\u001b[0m \u001b[0minitvals\u001b[0m\u001b[0;34m,\u001b[0m \u001b[0mkktsolver\u001b[0m \u001b[0;34m=\u001b[0m \u001b[0mkktsolver\u001b[0m\u001b[0;34m,\u001b[0m \u001b[0moptions\u001b[0m \u001b[0;34m=\u001b[0m \u001b[0moptions\u001b[0m\u001b[0;34m)\u001b[0m\u001b[0;34m\u001b[0m\u001b[0;34m\u001b[0m\u001b[0m\n\u001b[0m",
      "\u001b[0;32m~/opt/anaconda3/lib/python3.7/site-packages/cvxopt/coneprog.py\u001b[0m in \u001b[0;36mconeqp\u001b[0;34m(P, q, G, h, dims, A, b, initvals, kktsolver, xnewcopy, xdot, xaxpy, xscal, ynewcopy, ydot, yaxpy, yscal, **kwargs)\u001b[0m\n\u001b[1;32m   2254\u001b[0m         \u001b[0;31m# On exit, they contain ux, uy, uz.\u001b[0m\u001b[0;34m\u001b[0m\u001b[0;34m\u001b[0m\u001b[0;34m\u001b[0m\u001b[0m\n\u001b[1;32m   2255\u001b[0m \u001b[0;34m\u001b[0m\u001b[0m\n\u001b[0;32m-> 2256\u001b[0;31m         \u001b[0;32mtry\u001b[0m\u001b[0;34m:\u001b[0m \u001b[0mf3\u001b[0m \u001b[0;34m=\u001b[0m \u001b[0mkktsolver\u001b[0m\u001b[0;34m(\u001b[0m\u001b[0mW\u001b[0m\u001b[0;34m)\u001b[0m\u001b[0;34m\u001b[0m\u001b[0;34m\u001b[0m\u001b[0m\n\u001b[0m\u001b[1;32m   2257\u001b[0m         \u001b[0;32mexcept\u001b[0m \u001b[0mArithmeticError\u001b[0m\u001b[0;34m:\u001b[0m\u001b[0;34m\u001b[0m\u001b[0;34m\u001b[0m\u001b[0m\n\u001b[1;32m   2258\u001b[0m             \u001b[0;32mif\u001b[0m \u001b[0miters\u001b[0m \u001b[0;34m==\u001b[0m \u001b[0;36m0\u001b[0m\u001b[0;34m:\u001b[0m\u001b[0;34m\u001b[0m\u001b[0;34m\u001b[0m\u001b[0m\n",
      "\u001b[0;32m~/opt/anaconda3/lib/python3.7/site-packages/cvxopt/coneprog.py\u001b[0m in \u001b[0;36mkktsolver\u001b[0;34m(W)\u001b[0m\n\u001b[1;32m   1979\u001b[0m              \u001b[0mfactor\u001b[0m \u001b[0;34m=\u001b[0m \u001b[0mmisc\u001b[0m\u001b[0;34m.\u001b[0m\u001b[0mkkt_chol2\u001b[0m\u001b[0;34m(\u001b[0m\u001b[0mG\u001b[0m\u001b[0;34m,\u001b[0m \u001b[0mdims\u001b[0m\u001b[0;34m,\u001b[0m \u001b[0mA\u001b[0m\u001b[0;34m)\u001b[0m\u001b[0;34m\u001b[0m\u001b[0;34m\u001b[0m\u001b[0m\n\u001b[1;32m   1980\u001b[0m          \u001b[0;32mdef\u001b[0m \u001b[0mkktsolver\u001b[0m\u001b[0;34m(\u001b[0m\u001b[0mW\u001b[0m\u001b[0;34m)\u001b[0m\u001b[0;34m:\u001b[0m\u001b[0;34m\u001b[0m\u001b[0;34m\u001b[0m\u001b[0m\n\u001b[0;32m-> 1981\u001b[0;31m              \u001b[0;32mreturn\u001b[0m \u001b[0mfactor\u001b[0m\u001b[0;34m(\u001b[0m\u001b[0mW\u001b[0m\u001b[0;34m,\u001b[0m \u001b[0mP\u001b[0m\u001b[0;34m)\u001b[0m\u001b[0;34m\u001b[0m\u001b[0;34m\u001b[0m\u001b[0m\n\u001b[0m\u001b[1;32m   1982\u001b[0m \u001b[0;34m\u001b[0m\u001b[0m\n\u001b[1;32m   1983\u001b[0m     \u001b[0;32mif\u001b[0m \u001b[0mxnewcopy\u001b[0m \u001b[0;32mis\u001b[0m \u001b[0;32mNone\u001b[0m\u001b[0;34m:\u001b[0m \u001b[0mxnewcopy\u001b[0m \u001b[0;34m=\u001b[0m \u001b[0mmatrix\u001b[0m\u001b[0;34m\u001b[0m\u001b[0;34m\u001b[0m\u001b[0m\n",
      "\u001b[0;32m~/opt/anaconda3/lib/python3.7/site-packages/cvxopt/misc.py\u001b[0m in \u001b[0;36mfactor\u001b[0;34m(W, H, Df)\u001b[0m\n\u001b[1;32m   1449\u001b[0m \u001b[0;34m\u001b[0m\u001b[0m\n\u001b[1;32m   1450\u001b[0m         \u001b[0;32melse\u001b[0m\u001b[0;34m:\u001b[0m\u001b[0;34m\u001b[0m\u001b[0;34m\u001b[0m\u001b[0m\n\u001b[0;32m-> 1451\u001b[0;31m             \u001b[0mbase\u001b[0m\u001b[0;34m.\u001b[0m\u001b[0msyrk\u001b[0m\u001b[0;34m(\u001b[0m\u001b[0mF\u001b[0m\u001b[0;34m[\u001b[0m\u001b[0;34m'Gs'\u001b[0m\u001b[0;34m]\u001b[0m\u001b[0;34m,\u001b[0m \u001b[0mF\u001b[0m\u001b[0;34m[\u001b[0m\u001b[0;34m'S'\u001b[0m\u001b[0;34m]\u001b[0m\u001b[0;34m,\u001b[0m \u001b[0mtrans\u001b[0m \u001b[0;34m=\u001b[0m \u001b[0;34m'T'\u001b[0m\u001b[0;34m,\u001b[0m \u001b[0mpartial\u001b[0m \u001b[0;34m=\u001b[0m \u001b[0;32mTrue\u001b[0m\u001b[0;34m)\u001b[0m\u001b[0;34m\u001b[0m\u001b[0;34m\u001b[0m\u001b[0m\n\u001b[0m\u001b[1;32m   1452\u001b[0m             if mnl: base.syrk(F['Dfs'], F['S'], trans = 'T', beta = 1.0, \n\u001b[1;32m   1453\u001b[0m                 partial = True)\n",
      "\u001b[0;31mKeyboardInterrupt\u001b[0m: "
     ]
    }
   ],
   "source": [
    "news = scipy_io.loadmat('news.mat')\n",
    "\n",
    "X = news[\"X\"]\n",
    "l = news[\"L\"]\n",
    "dict = news[\"dict\"]\n",
    "\n",
    "temp = softsvm(X, l, 0.005)\n",
    "\n",
    "w = temp[0]\n",
    "b = temp[1]\n",
    "xi = temp[2]"
   ]
  },
  {
   "cell_type": "code",
   "execution_count": 24,
   "metadata": {},
   "outputs": [
    {
     "data": {
      "text/plain": [
       "array([[ 6.49887799e-17],\n",
       "       [-7.87682828e-11],\n",
       "       [-8.02248747e-11],\n",
       "       ...,\n",
       "       [ 9.99037136e-11],\n",
       "       [ 1.00416795e-10],\n",
       "       [ 5.93921369e-03]])"
      ]
     },
     "execution_count": 24,
     "metadata": {},
     "output_type": "execute_result"
    }
   ],
   "source": [
    "w"
   ]
  },
  {
   "cell_type": "code",
   "execution_count": 26,
   "metadata": {},
   "outputs": [
    {
     "data": {
      "text/plain": [
       "array(['marc                                                                           ',\n",
       "       'vanheyningen                                                                   ',\n",
       "       'mvanheyn                                                                       ',\n",
       "       ...,\n",
       "       'lehigh                                                                         ',\n",
       "       'wellesley                                                                      ',\n",
       "       'swarthmore                                                                     '],\n",
       "      dtype='<U79')"
      ]
     },
     "execution_count": 26,
     "metadata": {},
     "output_type": "execute_result"
    }
   ],
   "source": [
    "dict = news[\"dict\"]\n",
    "dict"
   ]
  },
  {
   "cell_type": "code",
   "execution_count": 43,
   "metadata": {},
   "outputs": [],
   "source": [
    "pred = np.dot(np.transpose(X), w) + b\n"
   ]
  },
  {
   "cell_type": "code",
   "execution_count": null,
   "metadata": {},
   "outputs": [],
   "source": []
  },
  {
   "cell_type": "code",
   "execution_count": 66,
   "metadata": {},
   "outputs": [
    {
     "data": {
      "text/plain": [
       "array([1.56201565e-11])"
      ]
     },
     "execution_count": 66,
     "metadata": {},
     "output_type": "execute_result"
    }
   ],
   "source": [
    "w.argsort()[-3:][::-1]#ind[np.argsort(w[ind])]\n",
    "np.argmax(w)\n",
    "#dict[array]"
   ]
  },
  {
   "cell_type": "code",
   "execution_count": 133,
   "metadata": {},
   "outputs": [
    {
     "data": {
      "text/plain": [
       "array([[0],\n",
       "       [0],\n",
       "       [0],\n",
       "       [0],\n",
       "       [0],\n",
       "       [0],\n",
       "       [0],\n",
       "       [0],\n",
       "       [0],\n",
       "       [0]])"
      ]
     },
     "execution_count": 133,
     "metadata": {},
     "output_type": "execute_result"
    }
   ],
   "source": [
    "dict[np.argmax(w)]"
   ]
  },
  {
   "cell_type": "code",
   "execution_count": 130,
   "metadata": {},
   "outputs": [
    {
     "data": {
      "text/plain": [
       "array(['marc                                                                           ',\n",
       "       'iq                                                                             ',\n",
       "       'niels                                                                          ',\n",
       "       'bohr                                                                           ',\n",
       "       'mjr                                                                            ',\n",
       "       'ranum                                                                          ',\n",
       "       'internals                                                                      ',\n",
       "       'a_rubin                                                                        ',\n",
       "       'dsg4                                                                           ',\n",
       "       'dse                                                                            '],\n",
       "      dtype='<U79')"
      ]
     },
     "execution_count": 130,
     "metadata": {},
     "output_type": "execute_result"
    }
   ],
   "source": [
    "dict[np.argsort((np.dot((X[np.argmax(w),:]), np.transpose(X))))][9640:9656]\n",
    "\n",
    "dict[np.argsort((np.dot((X[np.argmax(w),:]), np.transpose(X))))][0:10]\n",
    "\n",
    "#((X[np.argmax(w),])).shape\n",
    "#np.dot(X.transpose(X[np.argmax(w),]), X)"
   ]
  },
  {
   "cell_type": "code",
   "execution_count": 150,
   "metadata": {},
   "outputs": [
    {
     "data": {
      "text/plain": [
       "array(['marc                                                                           ',\n",
       "       'exposed                                                                        ',\n",
       "       'born                                                                           ',\n",
       "       'ecs                                                                            ',\n",
       "       'mot                                                                            ',\n",
       "       '147                                                                            ',\n",
       "       '59                                                                             ',\n",
       "       'declare                                                                        ',\n",
       "       'guvax                                                                          ',\n",
       "       'summarizes                                                                     '],\n",
       "      dtype='<U79')"
      ]
     },
     "execution_count": 150,
     "metadata": {},
     "output_type": "execute_result"
    }
   ],
   "source": [
    "np.argwhere([dict== \"space\"])\n",
    "\n",
    "#dict[(dict == \"space\")]\n",
    "#np.where(np.any(e>15, axis=1))\n",
    "\n",
    "dict[np.argsort((np.dot((X[30,:]), np.transpose(X))))][0:10]\n",
    "\n",
    "dict[np.argsort((np.dot((X[9519,:]), np.transpose(X))))][0:10]\n"
   ]
  },
  {
   "cell_type": "code",
   "execution_count": 82,
   "metadata": {},
   "outputs": [
    {
     "data": {
      "text/plain": [
       "Text(0, 0.5, 'Slack Variable')"
      ]
     },
     "execution_count": 82,
     "metadata": {},
     "output_type": "execute_result"
    },
    {
     "data": {
      "image/png": "[encoded data removed]",
      "text/plain": [
       "<Figure size 432x288 with 1 Axes>"
      ]
     },
     "metadata": {
      "needs_background": "light"
     },
     "output_type": "display_data"
    }
   ],
   "source": [
    "pred = np.dot(np.transpose(X), w) + b\n",
    "np.sign(l) == np.sign(pred)\n",
    "xi.shape\n",
    "pred.shape\n",
    "plt.scatter(y = xi, x = pred, c = np.sign(l) == np.sign(pred))\n",
    "plt.xlabel(\"SVM Prediction\")\n",
    "plt.ylabel(\"Slack Variable\")"
   ]
  },
  {
   "cell_type": "code",
   "execution_count": null,
   "metadata": {},
   "outputs": [],
   "source": []
  }
 ],
 "metadata": {
  "kernelspec": {
   "display_name": "Python 3",
   "language": "python",
   "name": "python3"
  },
  "language_info": {
   "codemirror_mode": {
    "name": "ipython",
    "version": 3
   },
   "file_extension": ".py",
   "mimetype": "text/x-python",
   "name": "python",
   "nbconvert_exporter": "python",
   "pygments_lexer": "ipython3",
   "version": "3.7.4"
  }
 },
 "nbformat": 4,
 "nbformat_minor": 4
}
