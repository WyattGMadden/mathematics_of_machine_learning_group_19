{
 "cells": [
  {
   "cell_type": "markdown",
   "metadata": {},
   "source": [
    "# 3.1"
   ]
  },
  {
   "cell_type": "code",
   "execution_count": null,
   "metadata": {},
   "outputs": [],
   "source": [
    "import scipy.io as scipy\n",
    "import numpy as np\n",
    "import seaborn as sns\n",
    "import matplotlib.pyplot as plt\n",
    "\n",
    "# PRINcipal COMPonent calculator\n",
    "#   Calculates the principal components of a collection of points.\n",
    "# Input:\n",
    "#   X - D-by-N data matrix of N points in D dimensions.\n",
    "# Output:\n",
    "#   W - A D-by-M matrix containing the M principal components of the data.\n",
    "#   Z - A M-by-N matrix containing the latent variables of the data.\n",
    "#   mu - A D-by-1 vector containing the mean of the data.\n",
    "#  lambda - A vector containing the eigenvalues associated with the above principal components.\n",
    "\n",
    "function [W, Z, mu, lambda] = princomp(X,M)\n",
    "\n",
    "end\n",
    "\n",
    "\n",
    "def princomp(X, M):\n",
    "    mean = np.sum(X)/len(X)\n",
    "    X = X - mean\n",
    "    S = np.matmul(XX)\n",
    "    [W, l] = eigs(S, M); #compute leadning eigenpairs\n",
    "    lambda = diag(L): # eigenvalues\n",
    "    \n",
    "    X = W' * X: #project each data point onto U\n",
    "    \n",
    "    var = np.matmul(np.transpose(x_cent), x_cent) / len(x)\n",
    "    sd = np.sqrt(var)\n",
    "    return mean, ds"
   ]
  }
 ],
 "metadata": {
  "kernelspec": {
   "display_name": "Python 3",
   "language": "python",
   "name": "python3"
  },
  "language_info": {
   "codemirror_mode": {
    "name": "ipython",
    "version": 3
   },
   "file_extension": ".py",
   "mimetype": "text/x-python",
   "name": "python",
   "nbconvert_exporter": "python",
   "pygments_lexer": "ipython3",
   "version": "3.6.5"
  }
 },
 "nbformat": 4,
 "nbformat_minor": 2
}


okay the jupyter code is very weird 
