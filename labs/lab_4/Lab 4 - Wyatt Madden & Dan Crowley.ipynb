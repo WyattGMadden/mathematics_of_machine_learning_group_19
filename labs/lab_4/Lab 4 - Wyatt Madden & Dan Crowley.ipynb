{
 "cells": [
  {
   "cell_type": "markdown",
   "metadata": {},
   "source": [
    "# 3.1"
   ]
  },
  {
   "cell_type": "code",
   "execution_count": null,
   "metadata": {},
   "outputs": [],
   "source": [
    "# Least-Squared Error FIT\n",
    "#  Find the linear combination of basis functions which best model the data.\n",
    "#\n",
    "#  Inputs:\n",
    "#  \n",
    "#  x - Vector with observation locations in 1D. (indep. variable)\n",
    "#  t - Vector with observations in 1D. (dep. variable)\n",
    "#  params - Parameters for the basis functions to be used in func, e.g. as\n",
    "#    produced by gauss_basis.\n",
    "#  func - Function handle which evaluates a basis function with parameters\n",
    "#    given by the columns of params and at the specified locations. e.g. \n",
    "#    @gauss_basis, or @hat_basis.\n",
    "#    For example, the first basis function at x = 2 is func(2, params(:,1)).\n",
    "#  mu - Scalar representing the standard deviation of the prior Gaussian on\n",
    "#    the model parameters.\n",
    "#\n",
    "#  Outputs:\n",
    "#  w - Coefficients used to generate a linear combination of the basis \n",
    "#    functions which is the maximum likelihood learned model.\n",
    "\n",
    "def lsefit(x, t, params, func, mu): \n",
    "    "
   ]
  }
 ],
 "metadata": {
  "kernelspec": {
   "display_name": "Python 3",
   "language": "python",
   "name": "python3"
  },
  "language_info": {
   "codemirror_mode": {
    "name": "ipython",
    "version": 3
   },
   "file_extension": ".py",
   "mimetype": "text/x-python",
   "name": "python",
   "nbconvert_exporter": "python",
   "pygments_lexer": "ipython3",
   "version": "3.6.5"
  }
 },
 "nbformat": 4,
 "nbformat_minor": 2
}
