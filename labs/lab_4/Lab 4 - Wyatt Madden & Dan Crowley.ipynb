{
 "cells": [
  {
   "cell_type": "markdown",
   "metadata": {},
   "source": [
    "# 3.1"
   ]
  },
  {
   "cell_type": "code",
   "execution_count": 1,
   "metadata": {},
   "outputs": [],
   "source": [
    "import scipy.io as scipy\n",
    "import seaborn as sns\n",
    "import matplotlib.pyplot as plt\n",
    "import pandas as pd\n",
    "import numpy as np\n",
    "import numpy.linalg as lg\n",
    "from eval_basis import *\n",
    "from func_gauss import *\n",
    "from func_hat import *\n",
    "from gauss_basis import *\n",
    "from hat_basis import *"
   ]
  },
  {
   "cell_type": "code",
   "execution_count": null,
   "metadata": {},
   "outputs": [],
   "source": []
  },
  {
   "cell_type": "code",
   "execution_count": 2,
   "metadata": {},
   "outputs": [],
   "source": [
    "\n",
    "\n",
    "# Least-Squared Error FIT\n",
    "#  Find the linear combination of basis functions which best model the data.\n",
    "#\n",
    "#  Inputs:\n",
    "#  \n",
    "#  x - Vector with observation locations in 1D. (indep. variable)\n",
    "#  t - Vector with observations in 1D. (dep. variable)\n",
    "#  params - Parameters for the basis functions to be used in func, e.g. as\n",
    "#    produced by gauss_basis.\n",
    "#  func - Function handle which evaluates a basis function with parameters\n",
    "#    given by the columns of params and at the specified locations. e.g. \n",
    "#    @gauss_basis, or @hat_basis.\n",
    "#    For example, the first basis function at x = 2 is func(2, params(:,1)).\n",
    "#  mu - Scalar representing the standard deviation of the prior Gaussian on\n",
    "#    the model parameters.\n",
    "#\n",
    "#  Outputs:\n",
    "#  w - Coefficients used to generate a linear combination of the basis \n",
    "#    functions which is the maximum likelihood learned model.\n",
    "\n",
    "def lsefit(x, t, params, func, mu): \n",
    "    design_matrix = better_eval_basis(params = params,\n",
    "                                      func = func,\n",
    "                                      xeval = x)\n",
    "    \n",
    "    w_hat = lg.inv(np.dot(np.transpose(design_matrix), design_matrix) + \n",
    "                   np.identity(design_matrix.shape[1])*(1/mu**2))\n",
    "    w = np.dot(w_hat, np.dot(np.transpose(design_matrix), t))\n",
    "    return w\n",
    "    \n",
    "    "
   ]
  },
  {
   "cell_type": "code",
   "execution_count": 3,
   "metadata": {},
   "outputs": [],
   "source": [
    "\n",
    "lab_4_dat = scipy.loadmat('/Users/dancrowley/Documents/machine_learning_zosso/mathematics_of_machine_learning_group_19/labs/lab_4/simple.mat', squeeze_me = True)\n",
    "\n",
    "\n",
    "x = lab_4_dat['x']\n",
    "t = lab_4_dat['t']\n",
    "\n",
    "data_orig = {'x': x,\n",
    "          't': t}\n",
    "\n",
    "data_orig = pd.DataFrame(data_orig)"
   ]
  },
  {
   "cell_type": "markdown",
   "metadata": {},
   "source": [
    "# 3.2"
   ]
  },
  {
   "cell_type": "code",
   "execution_count": 4,
   "metadata": {},
   "outputs": [],
   "source": [
    "\n",
    "#function to automate fitting process\n",
    "def df_of_preds(x, t, basis, func, mu, M, at):\n",
    "    fits = lsefit(x = x,\n",
    "                  t = t,\n",
    "                  params = basis(0, 2*np.pi, M),\n",
    "                  func = func, \n",
    "                  mu = mu)\n",
    "    preds_df = {'fits': np.dot(fits, \n",
    "                                  np.transpose(better_eval_basis(basis(0, \n",
    "                                                          2*np.pi, \n",
    "                                                          M), \n",
    "                                                                 func, \n",
    "                                                                 at))),\n",
    "                'x': at}\n",
    "    preds_df = pd.DataFrame(preds_df)\n",
    "    return preds_df\n",
    "\n",
    "#function to automate plotting\n",
    "def plot_preds_and_data(preds, data, title):\n",
    "    sns.lineplot(x = \"x\", y = \"fits\", data = preds)\n",
    "    sns.scatterplot(x = \"x\", y = \"t\", data = data).set(title = title)\n",
    "    \n",
    "    \n",
    "    "
   ]
  },
  {
   "cell_type": "code",
   "execution_count": 5,
   "metadata": {},
   "outputs": [
    {
     "data": {
      "image/png": "[encoded data removed]",
      "text/plain": [
       "<Figure size 432x288 with 1 Axes>"
      ]
     },
     "metadata": {
      "needs_background": "light"
     },
     "output_type": "display_data"
    }
   ],
   "source": [
    "zero_to_two_pi = np.arange(0, 2*np.pi, np.pi/100)\n",
    "\n",
    "fits = df_of_preds(x = x, t = t, basis = hat_basis, \n",
    "                   func = func_hat, mu = 10**5, M = len(x),\n",
    "                   at = zero_to_two_pi)\n",
    "\n",
    "plot_preds_and_data(fits, data_orig, \"mu = 10,000\")"
   ]
  },
  {
   "cell_type": "markdown",
   "metadata": {},
   "source": [
    "The fit of the hat basis function with mu of 10,000 is not a good approximation of the data. It is too responsive to subsequent data points, especially on the lower end of the x space. "
   ]
  },
  {
   "cell_type": "markdown",
   "metadata": {},
   "source": [
    "# 3.3"
   ]
  },
  {
   "cell_type": "code",
   "execution_count": 6,
   "metadata": {},
   "outputs": [
    {
     "data": {
      "image/png": "[encoded data removed]",
      "text/plain": [
       "<Figure size 432x288 with 1 Axes>"
      ]
     },
     "metadata": {
      "needs_background": "light"
     },
     "output_type": "display_data"
    }
   ],
   "source": [
    "fits = df_of_preds(x, t, hat_basis, func_hat, 10, len(x),\n",
    "                  at = zero_to_two_pi)\n",
    "plot_preds_and_data(fits, data_orig, \"mu = 10\")"
   ]
  },
  {
   "cell_type": "code",
   "execution_count": 7,
   "metadata": {},
   "outputs": [
    {
     "data": {
      "image/png": "[encoded data removed]",
      "text/plain": [
       "<Figure size 432x288 with 1 Axes>"
      ]
     },
     "metadata": {
      "needs_background": "light"
     },
     "output_type": "display_data"
    }
   ],
   "source": [
    "fits = df_of_preds(x, t, hat_basis, func_hat, 1, len(x),\n",
    "                  at = zero_to_two_pi)\n",
    "plot_preds_and_data(fits, data_orig, \"mu = 1\")"
   ]
  },
  {
   "cell_type": "markdown",
   "metadata": {},
   "source": [
    "# 3.4"
   ]
  },
  {
   "cell_type": "markdown",
   "metadata": {},
   "source": [
    "For higher mu values, the fit appears to be more determined by the data, while the overall pattern of the fit is not changing across mu values. For example, for mu = 10,000, the fit is overlaid across every data point, indicating a likely overfit. For mu = 1, the fit is closer to a flat line, and does not pick up on the sigmoidal shape of the data. "
   ]
  },
  {
   "cell_type": "markdown",
   "metadata": {},
   "source": [
    "# 3.5"
   ]
  },
  {
   "cell_type": "code",
   "execution_count": 8,
   "metadata": {},
   "outputs": [
    {
     "data": {
      "image/png": "[encoded data removed]",
      "text/plain": [
       "<Figure size 432x288 with 1 Axes>"
      ]
     },
     "metadata": {
      "needs_background": "light"
     },
     "output_type": "display_data"
    }
   ],
   "source": [
    "fits = df_of_preds(x, t, gauss_basis, func_gauss, 10**5, len(x),\n",
    "                  at = zero_to_two_pi)\n",
    "plot_preds_and_data(fits, data_orig, \"mu = 10,000\")"
   ]
  },
  {
   "cell_type": "markdown",
   "metadata": {},
   "source": [
    "# 3.6"
   ]
  },
  {
   "cell_type": "code",
   "execution_count": 9,
   "metadata": {},
   "outputs": [
    {
     "data": {
      "image/png": "[encoded data removed]",
      "text/plain": [
       "<Figure size 432x288 with 1 Axes>"
      ]
     },
     "metadata": {
      "needs_background": "light"
     },
     "output_type": "display_data"
    }
   ],
   "source": [
    "fits = df_of_preds(x, t, gauss_basis, func_gauss, 10, len(x),\n",
    "                  at = zero_to_two_pi)\n",
    "plot_preds_and_data(fits, data_orig, \"mu = 10\")"
   ]
  },
  {
   "cell_type": "code",
   "execution_count": 10,
   "metadata": {},
   "outputs": [
    {
     "data": {
      "image/png": "[encoded data removed]",
      "text/plain": [
       "<Figure size 432x288 with 1 Axes>"
      ]
     },
     "metadata": {
      "needs_background": "light"
     },
     "output_type": "display_data"
    }
   ],
   "source": [
    "fits = df_of_preds(x, t, gauss_basis, func_gauss, 1, len(x),\n",
    "                  at = zero_to_two_pi)\n",
    "plot_preds_and_data(fits, data_orig, \"mu = 1\")"
   ]
  },
  {
   "cell_type": "markdown",
   "metadata": {},
   "source": [
    "# 3.7"
   ]
  },
  {
   "cell_type": "markdown",
   "metadata": {},
   "source": [
    "Mu can be interpretted fairly similarly as in the hat basis case. For mu = 10,000, the fit is extremely responsive to the data, and responds chaotically outside the range of the observed data. For mu = 1, the fit does not appear to be responsive enough. Mu = 10 is just right. The main difference between the gaussian basis and the hat basis, is the hat basis results in a much choppier fit. "
   ]
  },
  {
   "cell_type": "markdown",
   "metadata": {},
   "source": [
    "# 3.8"
   ]
  },
  {
   "cell_type": "code",
   "execution_count": 11,
   "metadata": {},
   "outputs": [
    {
     "data": {
      "text/plain": [
       "[Text(0.5, 1.0, 'Sq Error, Mu 1-100')]"
      ]
     },
     "execution_count": 11,
     "metadata": {},
     "output_type": "execute_result"
    },
    {
     "data": {
      "image/png": "[encoded data removed]",
      "text/plain": [
       "<Figure size 432x288 with 1 Axes>"
      ]
     },
     "metadata": {
      "needs_background": "light"
     },
     "output_type": "display_data"
    }
   ],
   "source": [
    "lab_4_test = scipy.loadmat('/Users/dancrowley/Documents/machine_learning_zosso/mathematics_of_machine_learning_group_19/labs/lab_4/test.mat', squeeze_me = True)\n",
    "\n",
    "x_test = lab_4_test['test_x']\n",
    "t_test = lab_4_test['test_t']\n",
    "\n",
    "data_test = {'x': x_test,\n",
    "             't': t_test}\n",
    "\n",
    "data_test = pd.DataFrame(data_test)\n",
    "sq_errors = np.empty(100)\n",
    "\n",
    "for i in range(1, 101):\n",
    "    fits = df_of_preds(x, t, gauss_basis, func_gauss, i, 10,\n",
    "                  at = x_test)\n",
    "    sq_errors[i-1] = np.sum((fits['fits'] - t_test)**2)\n",
    "\n",
    "\n",
    "sq_errors_and_mus = {'mu': range(1, 101),\n",
    "                    'total_sq_error': sq_errors}\n",
    "sq_errors_and_mus = pd.DataFrame(sq_errors_and_mus)\n",
    "\n",
    "sns.scatterplot(x = \"mu\", \n",
    "                y = \"total_sq_error\", \n",
    "                data = sq_errors_and_mus).set(title = \"Sq Error, Mu 1-100\")"
   ]
  },
  {
   "cell_type": "markdown",
   "metadata": {},
   "source": [
    "# 3.9"
   ]
  },
  {
   "cell_type": "code",
   "execution_count": 12,
   "metadata": {},
   "outputs": [
    {
     "data": {
      "text/plain": [
       "16"
      ]
     },
     "execution_count": 12,
     "metadata": {},
     "output_type": "execute_result"
    }
   ],
   "source": [
    "sq_errors_and_mus[\"mu\"][np.argmin(sq_errors)]"
   ]
  },
  {
   "cell_type": "markdown",
   "metadata": {},
   "source": [
    "According the the above calculations, mu of 16 (for an integer value) performs best on the data. This is because a mu of 16 results in the lowest test error, ie. the best tradeoff between over and under fitting. "
   ]
  },
  {
   "cell_type": "markdown",
   "metadata": {},
   "source": [
    "# 3.10"
   ]
  },
  {
   "cell_type": "code",
   "execution_count": 13,
   "metadata": {},
   "outputs": [
    {
     "data": {
      "text/plain": [
       "[Text(0.5, 1.0, 'Sq Error, M 1-100')]"
      ]
     },
     "execution_count": 13,
     "metadata": {},
     "output_type": "execute_result"
    },
    {
     "data": {
      "image/png": "[encoded data removed]",
      "text/plain": [
       "<Figure size 432x288 with 1 Axes>"
      ]
     },
     "metadata": {
      "needs_background": "light"
     },
     "output_type": "display_data"
    }
   ],
   "source": [
    "m_sq_errors = np.empty(99)\n",
    "\n",
    "for i in range(2, 101):\n",
    "    fits = df_of_preds(x, t, gauss_basis, func_gauss, 13, i,\n",
    "                  at = x_test)\n",
    "    m_sq_errors[i-2] = np.sum((fits['fits'] - t_test)**2)\n",
    "\n",
    "\n",
    "m_sq_errors_and_mus = {'M': range(2, 101),\n",
    "                    'total_sq_error': m_sq_errors}\n",
    "m_sq_errors_and_mus = pd.DataFrame(m_sq_errors_and_mus)\n",
    "\n",
    "sns.scatterplot(x = \"M\", \n",
    "                y = \"total_sq_error\", \n",
    "                data = m_sq_errors_and_mus).set(title = \"Sq Error, M 1-100\")"
   ]
  },
  {
   "cell_type": "code",
   "execution_count": 14,
   "metadata": {},
   "outputs": [
    {
     "data": {
      "text/plain": [
       "10"
      ]
     },
     "execution_count": 14,
     "metadata": {},
     "output_type": "execute_result"
    }
   ],
   "source": [
    "m_sq_errors_and_mus[\"M\"][np.argmin(m_sq_errors)]"
   ]
  },
  {
   "cell_type": "markdown",
   "metadata": {},
   "source": [
    "\n"
   ]
  },
  {
   "cell_type": "markdown",
   "metadata": {},
   "source": [
    "Following similar arguments as in the mu assessement, an M of 10 provides the best tradeoff between over and under fitting. "
   ]
  },
  {
   "cell_type": "markdown",
   "metadata": {},
   "source": [
    "# Extras"
   ]
  },
  {
   "cell_type": "markdown",
   "metadata": {},
   "source": [
    "The problem presented in the extras section is has an L1 penalty, ie the lasso regression. If we wanted to use gradient descent we would find ourselves with the perplexing issue of the derivative of the absolute value. We can use subgradients. I watched this entire video on subgradient descent: https://www.youtube.com/watch?v=jYtCiV1aP44 only to read here on Quora, https://www.quora.com/Why-doesnt-subgradient-descent-give-sparse-solutions-to-the-Lasso?share=1, that subgradient descent doesn't actually perform well for the Lasso. Instead we can use coordinate descent, which I don't really understand. \n",
    "\n",
    "I am going to try out coordinate descent stealing code from this guy:\n",
    "https://xavierbourretsicotte.github.io/lasso_implementation.html\n",
    "\n",
    "...and then apply it to our basis functions.\n"
   ]
  },
  {
   "cell_type": "code",
   "execution_count": 15,
   "metadata": {},
   "outputs": [],
   "source": [
    "import numpy as np\n",
    "import pandas as pd\n",
    "from matplotlib import pyplot as plt\n",
    "from mpl_toolkits.mplot3d import Axes3D\n",
    "from mpl_toolkits import mplot3d\n",
    "from sklearn import linear_model\n",
    "from sklearn import datasets"
   ]
  },
  {
   "cell_type": "code",
   "execution_count": 20,
   "metadata": {},
   "outputs": [],
   "source": [
    "#reshape our data\n",
    "t2 = t.reshape(-1,1)\n",
    "\n",
    "\n",
    "dm = better_eval_basis(params = gauss_basis(0, 2*np.pi, len(x)),\n",
    "                                      func = func_gauss,\n",
    "                                      xeval = x)"
   ]
  },
  {
   "cell_type": "code",
   "execution_count": null,
   "metadata": {},
   "outputs": [],
   "source": []
  },
  {
   "cell_type": "code",
   "execution_count": 21,
   "metadata": {},
   "outputs": [],
   "source": [
    "def soft_threshold(rho,lamda):\n",
    "    if rho < - lamda:\n",
    "        return (rho + lamda)\n",
    "    elif rho >  lamda:\n",
    "        return (rho - lamda)\n",
    "    else: \n",
    "        return 0\n",
    "    \n"
   ]
  },
  {
   "cell_type": "code",
   "execution_count": 22,
   "metadata": {},
   "outputs": [],
   "source": [
    "def coordinate_descent_lasso(theta,X,y,lamda = .01, num_iters=100, intercept = False):\n",
    "    #Initialisation of useful values \n",
    "    m,n = X.shape\n",
    "    X = X / (np.linalg.norm(X,axis = 0)) #normalizing data\n",
    "    \n",
    "    #Looping until max number of iterations\n",
    "    for i in range(num_iters): \n",
    "        #Looping through each coordinate\n",
    "        for j in range(n):\n",
    "            #Vectorized implementation\n",
    "            X_j = X[:,j].reshape(-1,1)\n",
    "            y_pred = X @ theta\n",
    "            rho = X_j.T @ (y - y_pred  + theta[j]*X_j)\n",
    "        \n",
    "            #Checking intercept parameter\n",
    "            if intercept == True:  \n",
    "                if j == 0: \n",
    "                    theta[j] =  rho \n",
    "                else:\n",
    "                    theta[j] =  soft_threshold(rho, lamda)  \n",
    "\n",
    "            if intercept == False:\n",
    "                theta[j] =  soft_threshold(rho, lamda)   \n",
    "            \n",
    "    return theta.flatten()\n",
    "\n"
   ]
  },
  {
   "cell_type": "code",
   "execution_count": 24,
   "metadata": {},
   "outputs": [],
   "source": [
    "m,n = dm.shape\n",
    "initial_theta = np.ones((n,1))\n",
    "theta_list = list()\n",
    "lamda = np.logspace(0,4,300)/10 #Range of lambda values\n"
   ]
  },
  {
   "cell_type": "code",
   "execution_count": null,
   "metadata": {},
   "outputs": [],
   "source": [
    "\n",
    "#coordinate_descent_lasso(initial_theta, dm , t2 ,lamda = l, num_iters=100)"
   ]
  },
  {
   "cell_type": "code",
   "execution_count": 25,
   "metadata": {},
   "outputs": [],
   "source": [
    "\n",
    "#Run lasso regression for each lambda\n",
    "for l in lamda:\n",
    "    theta = coordinate_descent_lasso(initial_theta, dm , t2 ,lamda = l, num_iters=100)\n",
    "    theta_list.append(theta)\n"
   ]
  },
  {
   "cell_type": "code",
   "execution_count": 26,
   "metadata": {},
   "outputs": [
    {
     "data": {
      "text/plain": [
       "(10, 300)"
      ]
     },
     "execution_count": 26,
     "metadata": {},
     "output_type": "execute_result"
    }
   ],
   "source": [
    "theta_lasso = np.stack(theta_list).T\n",
    "\n",
    "theta_lasso.shape\n"
   ]
  },
  {
   "cell_type": "code",
   "execution_count": 27,
   "metadata": {},
   "outputs": [
    {
     "data": {
      "image/png": "[encoded data removed]",
      "text/plain": [
       "<Figure size 432x288 with 1 Axes>"
      ]
     },
     "metadata": {
      "needs_background": "light"
     },
     "output_type": "display_data"
    }
   ],
   "source": [
    "lamda.shape\n",
    "theta_lasso = np.stack(theta_list).T\n",
    "\n",
    "n,_ = theta_lasso.shape\n",
    "\n",
    "for i in range(n):\n",
    "    plt.plot(lamda, theta_lasso[i, 0:300])\n",
    "\n",
    "plt.xscale('log')\n"
   ]
  },
  {
   "cell_type": "code",
   "execution_count": 40,
   "metadata": {},
   "outputs": [
    {
     "name": "stdout",
     "output_type": "stream",
     "text": [
      "[ 0.          0.14616151  1.12555126  0.68230108  0.          0.\n",
      " -0.75478877 -0.78704368  0.          0.        ]\n",
      "0.10312831606721848\n"
     ]
    }
   ],
   "source": [
    "print(theta_lasso[:,1])\n",
    "print(lamda[1])"
   ]
  },
  {
   "cell_type": "markdown",
   "metadata": {},
   "source": [
    "At lambda 0.1 most of our basis functions remain from our design matrix. "
   ]
  },
  {
   "cell_type": "code",
   "execution_count": 33,
   "metadata": {},
   "outputs": [
    {
     "data": {
      "text/plain": [
       "array([ 0.        ,  0.        ,  1.23513975,  0.26559194,  0.        ,\n",
       "        0.        , -0.44730679, -0.67552155,  0.        ,  0.        ])"
      ]
     },
     "execution_count": 33,
     "metadata": {},
     "output_type": "execute_result"
    }
   ],
   "source": [
    "theta_lasso[:,50]"
   ]
  },
  {
   "cell_type": "code",
   "execution_count": 38,
   "metadata": {},
   "outputs": [
    {
     "name": "stdout",
     "output_type": "stream",
     "text": [
      "[0.         0.         0.32195295 0.         0.         0.\n",
      " 0.         0.         0.         0.        ]\n",
      "1.5996073018614878\n"
     ]
    }
   ],
   "source": [
    "print(theta_lasso[:,90])\n",
    "print(lamda[90])"
   ]
  },
  {
   "cell_type": "markdown",
   "metadata": {},
   "source": [
    "Around lamda of 1.6 we have penalized the regression to the point that only one coefficient/basis function remains."
   ]
  },
  {
   "cell_type": "code",
   "execution_count": null,
   "metadata": {},
   "outputs": [],
   "source": [
    "\n",
    "#Run lasso regression for each lambda\n",
    "#for l in lamda:\n",
    "##    theta = coordinate_descent_lasso(initial_theta,X,y,lamda = l, num_iters=100)\n",
    "#    theta_list.append(theta)\n",
    "\n",
    "#Stack into numpy array\n",
    "#theta_lasso = np.stack(theta_list).T\n",
    "\n",
    "#Plot results\n",
    "#n,_ = theta_lasso.shape\n",
    "#plt.figure(figsize = (12,8))\n",
    "\n",
    "#for i in range(n):\n",
    "#    plt.plot(lamda, theta_lasso[i], label = diabetes.feature_names[i])\n",
    "\n",
    "#plt.xscale('log')\n",
    "#plt.xlabel('Log($\\\\lambda$)')\n",
    "#plt.ylabel('Coefficients')\n",
    "#plt.title('Lasso Paths - Numpy implementation')\n",
    "#plt.legend()\n",
    "#plt.axis('tight')"
   ]
  }
 ],
 "metadata": {
  "kernelspec": {
   "display_name": "Python 3",
   "language": "python",
   "name": "python3"
  },
  "language_info": {
   "codemirror_mode": {
    "name": "ipython",
    "version": 3
   },
   "file_extension": ".py",
   "mimetype": "text/x-python",
   "name": "python",
   "nbconvert_exporter": "python",
   "pygments_lexer": "ipython3",
   "version": "3.7.4"
  }
 },
 "nbformat": 4,
 "nbformat_minor": 2
}
