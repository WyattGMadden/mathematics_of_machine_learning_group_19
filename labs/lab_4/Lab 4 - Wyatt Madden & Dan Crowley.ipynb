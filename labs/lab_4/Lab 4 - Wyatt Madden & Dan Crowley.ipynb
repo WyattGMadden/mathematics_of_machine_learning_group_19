{
 "cells": [
  {
   "cell_type": "markdown",
   "metadata": {},
   "source": [
    "# 3.1"
   ]
  },
  {
   "cell_type": "code",
   "execution_count": 1,
   "metadata": {},
   "outputs": [],
   "source": [
    "import scipy.io as scipy\n",
    "import seaborn as sns\n",
    "import matplotlib.pyplot as plt\n",
    "import pandas as pd\n",
    "import numpy as np\n",
    "from gauss_basis import *"
   ]
  },
  {
   "cell_type": "code",
   "execution_count": null,
   "metadata": {},
   "outputs": [],
   "source": [
    "# Least-Squared Error FIT\n",
    "#  Find the linear combination of basis functions which best model the data.\n",
    "#\n",
    "#  Inputs:\n",
    "#  \n",
    "#  x - Vector with observation locations in 1D. (indep. variable)\n",
    "#  t - Vector with observations in 1D. (dep. variable)\n",
    "#  params - Parameters for the basis functions to be used in func, e.g. as\n",
    "#    produced by gauss_basis.\n",
    "#  func - Function handle which evaluates a basis function with parameters\n",
    "#    given by the columns of params and at the specified locations. e.g. \n",
    "#    @gauss_basis, or @hat_basis.\n",
    "#    For example, the first basis function at x = 2 is func(2, params(:,1)).\n",
    "#  mu - Scalar representing the standard deviation of the prior Gaussian on\n",
    "#    the model parameters.\n",
    "#\n",
    "#  Outputs:\n",
    "#  w - Coefficients used to generate a linear combination of the basis \n",
    "#    functions which is the maximum likelihood learned model.\n",
    "\n",
    "def lsefit(x, t, params, func, mu): \n",
    "    "
   ]
  },
  {
   "cell_type": "code",
   "execution_count": 10,
   "metadata": {},
   "outputs": [],
   "source": [
    "lab_4_dat = scipy.loadmat('/Users/wyattmadden/Documents/school/' + \n",
    "                           'MSU/2020/spring/m508/lab_info/lab_4/simple.mat',\n",
    "                           squeeze_me = True)\n",
    "\n",
    "x = lab_4_dat['x']"
   ]
  },
  {
   "cell_type": "code",
   "execution_count": 2,
   "metadata": {},
   "outputs": [
    {
     "data": {
      "text/plain": [
       "array([[-8. ,  1. ],\n",
       "       [ 4.5,  4.5]])"
      ]
     },
     "execution_count": 2,
     "metadata": {},
     "output_type": "execute_result"
    }
   ],
   "source": [
    "gauss_basis(1, 10, 2)"
   ]
  },
  {
   "cell_type": "code",
   "execution_count": null,
   "metadata": {},
   "outputs": [],
   "source": []
  }
 ],
 "metadata": {
  "kernelspec": {
   "display_name": "Python 3",
   "language": "python",
   "name": "python3"
  },
  "language_info": {
   "codemirror_mode": {
    "name": "ipython",
    "version": 3
   },
   "file_extension": ".py",
   "mimetype": "text/x-python",
   "name": "python",
   "nbconvert_exporter": "python",
   "pygments_lexer": "ipython3",
   "version": "3.6.5"
  }
 },
 "nbformat": 4,
 "nbformat_minor": 2
}
